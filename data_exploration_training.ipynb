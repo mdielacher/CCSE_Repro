{
 "cells": [
  {
   "cell_type": "markdown",
   "metadata": {},
   "source": [
    "# Analyse zur Kaufpreissamlung Liegenschaften Wien"
   ]
  },
  {
   "cell_type": "markdown",
   "metadata": {},
   "source": [
    "## Imports"
   ]
  },
  {
   "cell_type": "code",
   "execution_count": 1,
   "metadata": {},
   "outputs": [],
   "source": [
    "import pandas as pd\n",
    "import matplotlib.pyplot as plt\n",
    "from datetime import datetime\n"
   ]
  },
  {
   "cell_type": "markdown",
   "metadata": {},
   "source": [
    "## Load File"
   ]
  },
  {
   "cell_type": "code",
   "execution_count": 2,
   "metadata": {},
   "outputs": [],
   "source": [
    "csv_file = \"kaufpreissammlung-liegenschaften.csv\""
   ]
  },
  {
   "cell_type": "code",
   "execution_count": 3,
   "metadata": {},
   "outputs": [
    {
     "name": "stderr",
     "output_type": "stream",
     "text": [
      "/var/folders/08/8s3n2f895zgg2psmtlmnblh80000gn/T/ipykernel_42106/468227096.py:1: UserWarning: Parsing dates in DD/MM/YYYY format when dayfirst=False (the default) was specified. This may lead to inconsistently parsed dates! Specify a format to ensure consistent parsing.\n",
      "  df = pd.read_csv(csv_file,sep=\";\",encoding=\"Latin-1\",low_memory=False,parse_dates=[\"Erwerbsdatum\", \"BJ\"])\n"
     ]
    }
   ],
   "source": [
    "df = pd.read_csv(csv_file,sep=\";\",encoding=\"Latin-1\",low_memory=False,parse_dates=[\"Erwerbsdatum\", \"BJ\"])\n",
    "df = df[[\"PLZ\", \"Erwerbsdatum\", \"zuordnung\", \"Kaufpreis \\x80\", \"Gst.Fl.\", \"ErwArt\", \"% Widmung\"]]"
   ]
  },
  {
   "cell_type": "markdown",
   "metadata": {},
   "source": [
    "## Data Preperation / Understanding"
   ]
  },
  {
   "cell_type": "markdown",
   "metadata": {},
   "source": [
    "### Data Understanding"
   ]
  },
  {
   "cell_type": "code",
   "execution_count": 4,
   "metadata": {},
   "outputs": [],
   "source": [
    "rename_names =  {\n",
    "    'zuordnung': 'Liegenschaftstyp',\n",
    "    'Kaufpreis \\x80': 'Kaufpreis',\n",
    "    'Gst.Fl.': 'Fläche',\n",
    "    '% Widmung':'Widmung'\n",
    "    # Fügen Sie weitere Spalten hinzu, die Sie umbenennen möchten\n",
    "}\n",
    "df = df.rename(columns=rename_names)"
   ]
  },
  {
   "cell_type": "code",
   "execution_count": 5,
   "metadata": {},
   "outputs": [
    {
     "data": {
      "text/html": [
       "<div>\n",
       "<style scoped>\n",
       "    .dataframe tbody tr th:only-of-type {\n",
       "        vertical-align: middle;\n",
       "    }\n",
       "\n",
       "    .dataframe tbody tr th {\n",
       "        vertical-align: top;\n",
       "    }\n",
       "\n",
       "    .dataframe thead th {\n",
       "        text-align: right;\n",
       "    }\n",
       "</style>\n",
       "<table border=\"1\" class=\"dataframe\">\n",
       "  <thead>\n",
       "    <tr style=\"text-align: right;\">\n",
       "      <th></th>\n",
       "      <th>PLZ</th>\n",
       "      <th>Erwerbsdatum</th>\n",
       "      <th>Liegenschaftstyp</th>\n",
       "      <th>Kaufpreis</th>\n",
       "      <th>Fläche</th>\n",
       "      <th>ErwArt</th>\n",
       "      <th>Widmung</th>\n",
       "    </tr>\n",
       "  </thead>\n",
       "  <tbody>\n",
       "    <tr>\n",
       "      <th>0</th>\n",
       "      <td>1210.0</td>\n",
       "      <td>13.10.2021</td>\n",
       "      <td>Abbruchobjekt</td>\n",
       "      <td>750000</td>\n",
       "      <td>755.0</td>\n",
       "      <td>Kaufvertrag</td>\n",
       "      <td>100.0</td>\n",
       "    </tr>\n",
       "    <tr>\n",
       "      <th>1</th>\n",
       "      <td>1210.0</td>\n",
       "      <td>13.09.2021</td>\n",
       "      <td>Mietwohnhaus voll/tw. vermietet</td>\n",
       "      <td>1250000</td>\n",
       "      <td>510.0</td>\n",
       "      <td>Kaufvertrag</td>\n",
       "      <td>100.0</td>\n",
       "    </tr>\n",
       "    <tr>\n",
       "      <th>2</th>\n",
       "      <td>1130.0</td>\n",
       "      <td>10.08.2021</td>\n",
       "      <td>Abbruchobjekt</td>\n",
       "      <td>480000</td>\n",
       "      <td>456.0</td>\n",
       "      <td>Kaufvertrag</td>\n",
       "      <td>100.0</td>\n",
       "    </tr>\n",
       "    <tr>\n",
       "      <th>3</th>\n",
       "      <td>1130.0</td>\n",
       "      <td>30.12.2020</td>\n",
       "      <td>Abbruchobjekt</td>\n",
       "      <td>1600000</td>\n",
       "      <td>523.0</td>\n",
       "      <td>Kaufvertrag</td>\n",
       "      <td>100.0</td>\n",
       "    </tr>\n",
       "    <tr>\n",
       "      <th>4</th>\n",
       "      <td>1100.0</td>\n",
       "      <td>04.11.2020</td>\n",
       "      <td>unbebaut</td>\n",
       "      <td>15000000</td>\n",
       "      <td>12768.0</td>\n",
       "      <td>Kaufvertrag</td>\n",
       "      <td>30.0</td>\n",
       "    </tr>\n",
       "  </tbody>\n",
       "</table>\n",
       "</div>"
      ],
      "text/plain": [
       "      PLZ Erwerbsdatum                 Liegenschaftstyp Kaufpreis   Fläche  \\\n",
       "0  1210.0   13.10.2021                    Abbruchobjekt    750000    755.0   \n",
       "1  1210.0   13.09.2021  Mietwohnhaus voll/tw. vermietet   1250000    510.0   \n",
       "2  1130.0   10.08.2021                    Abbruchobjekt    480000    456.0   \n",
       "3  1130.0   30.12.2020                    Abbruchobjekt   1600000    523.0   \n",
       "4  1100.0   04.11.2020                         unbebaut  15000000  12768.0   \n",
       "\n",
       "        ErwArt  Widmung  \n",
       "0  Kaufvertrag    100.0  \n",
       "1  Kaufvertrag    100.0  \n",
       "2  Kaufvertrag    100.0  \n",
       "3  Kaufvertrag    100.0  \n",
       "4  Kaufvertrag     30.0  "
      ]
     },
     "execution_count": 5,
     "metadata": {},
     "output_type": "execute_result"
    }
   ],
   "source": [
    "df.head(5)"
   ]
  },
  {
   "cell_type": "code",
   "execution_count": 6,
   "metadata": {},
   "outputs": [
    {
     "data": {
      "text/plain": [
       "array(['Kaufvertrag', 'Tauschvertrag', 'GRA Beschluss',\n",
       "       'Magistratsbeschluss', 'GR Beschluss', 'Versteigerung',\n",
       "       'Enteig. /Einl.', 'MA 64-Bescheid', 'Baurechtsvertrag',\n",
       "       'KV-Entwurf', 'Sonstiges'], dtype=object)"
      ]
     },
     "execution_count": 6,
     "metadata": {},
     "output_type": "execute_result"
    }
   ],
   "source": [
    "df[\"ErwArt\"].unique()"
   ]
  },
  {
   "cell_type": "code",
   "execution_count": 7,
   "metadata": {},
   "outputs": [
    {
     "data": {
      "text/plain": [
       "1220.0    11813\n",
       "1210.0     7260\n",
       "1230.0     6705\n",
       "1130.0     4066\n",
       "1140.0     3875\n",
       "1100.0     3104\n",
       "1190.0     2804\n",
       "1110.0     2356\n",
       "1170.0     2087\n",
       "1120.0     2071\n",
       "1160.0     1918\n",
       "1020.0     1736\n",
       "1180.0     1437\n",
       "1150.0     1379\n",
       "1030.0     1348\n",
       "1200.0     1053\n",
       "1050.0      986\n",
       "1090.0      938\n",
       "1070.0      869\n",
       "1060.0      640\n",
       "1010.0      488\n",
       "1080.0      483\n",
       "1040.0      457\n",
       "0.0           7\n",
       "1119.0        5\n",
       "1320.0        4\n",
       "1117.0        3\n",
       "1203.0        2\n",
       "1116.0        2\n",
       "1141.0        2\n",
       "1211.0        1\n",
       "5479.0        1\n",
       "1118.0        1\n",
       "1115.0        1\n",
       "1800.0        1\n",
       "1206.0        1\n",
       "1233.0        1\n",
       "100.0         1\n",
       "1880.0        1\n",
       "1022.0        1\n",
       "1179.0        1\n",
       "Name: PLZ, dtype: int64"
      ]
     },
     "execution_count": 7,
     "metadata": {},
     "output_type": "execute_result"
    }
   ],
   "source": [
    "df['PLZ'].value_counts()"
   ]
  },
  {
   "cell_type": "code",
   "execution_count": 8,
   "metadata": {},
   "outputs": [
    {
     "data": {
      "text/plain": [
       "unbebaut                             19755\n",
       "Mietwohnhaus voll/tw. vermietet      13643\n",
       "Ein-, Zweifamilienhaus               13195\n",
       "Abbruchobjekt                         5628\n",
       "Betriebsobjekt                        1716\n",
       "Kleingarten                           1664\n",
       "Sonstiges                             1134\n",
       "Büro- u./o. Geschäftsgebäude           963\n",
       "Mietwohnhaus leer                      732\n",
       "Weingarten                             456\n",
       "Landwirtsch. Nutzung                   439\n",
       "Villa                                  270\n",
       "Büro- u./o. Geschäftsgebäude leer      200\n",
       "in Arbeit                              165\n",
       "Wald                                    54\n",
       "Fabrik                                   2\n",
       "Name: Liegenschaftstyp, dtype: int64"
      ]
     },
     "execution_count": 8,
     "metadata": {},
     "output_type": "execute_result"
    }
   ],
   "source": [
    "df['Liegenschaftstyp'].value_counts()"
   ]
  },
  {
   "cell_type": "code",
   "execution_count": 9,
   "metadata": {},
   "outputs": [
    {
     "data": {
      "text/plain": [
       "array([1210., 1130., 1100., 1180., 1220., 1160., 1110., 1060., 1230.,\n",
       "       1090., 1190., 1120., 1150., 1170., 1080., 1050., 1010., 1030.,\n",
       "       1200., 1070., 1020., 1040., 1140., 1022.,    0., 1880., 1800.,\n",
       "         nan,  100., 1203., 1233., 1320., 1206., 1119., 1116., 1118.,\n",
       "       1117., 1211., 1141., 5479., 1115., 1179.])"
      ]
     },
     "execution_count": 9,
     "metadata": {},
     "output_type": "execute_result"
    }
   ],
   "source": [
    "df['PLZ'].unique()"
   ]
  },
  {
   "cell_type": "markdown",
   "metadata": {},
   "source": [
    "### Data Prep"
   ]
  },
  {
   "cell_type": "code",
   "execution_count": 10,
   "metadata": {},
   "outputs": [],
   "source": [
    "df = df.drop(df[df['PLZ'] == 1022].index)\n",
    "df = df.drop(df[df['PLZ'] == 0].index)\n",
    "df = df.drop(df[df['PLZ'] == 1880].index)\n",
    "df = df.drop(df[df['PLZ'] == 1800].index)\n",
    "df = df.drop(df[df['PLZ'] == 100].index)\n",
    "df = df.drop(df[df['PLZ'] == 1203].index)\n",
    "df = df.drop(df[df['PLZ'] == 1233].index)\n",
    "df = df.drop(df[df['PLZ'] == 1320].index)\n",
    "df = df.drop(df[df['PLZ'] == 1206].index)\n",
    "df = df.drop(df[df['PLZ'] == 1119].index)\n",
    "df = df.drop(df[df['PLZ'] == 1116].index)\n",
    "df = df.drop(df[df['PLZ'] == 1118].index)\n",
    "df = df.drop(df[df['PLZ'] == 1117].index)\n",
    "df = df.drop(df[df['PLZ'] == 1211].index)\n",
    "df = df.drop(df[df['PLZ'] == 1141].index)\n",
    "df = df.drop(df[df['PLZ'] == 5479].index)\n",
    "df = df.drop(df[df['PLZ'] == 1115].index)\n",
    "df = df.drop(df[df['PLZ'] == 1179].index)\n",
    "df = df.dropna(subset=['PLZ'])\n",
    "df[\"PLZ\"] = df[\"PLZ\"].astype(int)"
   ]
  },
  {
   "cell_type": "code",
   "execution_count": 11,
   "metadata": {},
   "outputs": [],
   "source": [
    "df = df.drop(df[df['Liegenschaftstyp'] == \"Fabrik\"].index)\n",
    "df = df.drop(df[df['Liegenschaftstyp'] == \"Wald\"].index)\n",
    "df = df.drop(df[df['Liegenschaftstyp'] == \"in Arbeit\"].index)"
   ]
  },
  {
   "cell_type": "code",
   "execution_count": 12,
   "metadata": {},
   "outputs": [],
   "source": [
    "df = df[df['ErwArt'] == 'Kaufvertrag']\n",
    "df = df.drop(\"ErwArt\", axis=1)"
   ]
  },
  {
   "cell_type": "code",
   "execution_count": 13,
   "metadata": {},
   "outputs": [],
   "source": [
    "df[\"Kaufpreis\"] = pd.to_numeric(df[\"Kaufpreis\"].str.replace(',', '.'), errors='coerce').fillna(0)"
   ]
  },
  {
   "cell_type": "code",
   "execution_count": 14,
   "metadata": {},
   "outputs": [],
   "source": [
    "date_format='%d.%m.%Y'\n",
    "df[\"Erwerbsdatum\"] = pd.to_datetime(df[\"Erwerbsdatum\"], format=date_format, errors='coerce')\n",
    "df = df.dropna(subset=['Erwerbsdatum'])\n",
    "df = df.dropna(subset=['Kaufpreis'])\n",
    "df = df.dropna(subset=['Widmung'])\n",
    "df = df.dropna(subset=['Fläche'])\n",
    "\n",
    "df = df[df['Erwerbsdatum'] < pd.to_datetime(datetime.now().date())]"
   ]
  },
  {
   "cell_type": "markdown",
   "metadata": {},
   "source": [
    "### Check Data"
   ]
  },
  {
   "cell_type": "markdown",
   "metadata": {},
   "source": [
    "#### Functions"
   ]
  },
  {
   "cell_type": "code",
   "execution_count": 15,
   "metadata": {},
   "outputs": [],
   "source": [
    "def check_nan_in_dataframe(dataframe):\n",
    "    nan_counts = dataframe.isna().sum()\n",
    "    print(\"NaN-Werte in den Spalten des DataFrames:\")\n",
    "    for column, count in nan_counts.items():\n",
    "        print(f\"Spalte '{column}': {count} NaN-Werte\")"
   ]
  },
  {
   "cell_type": "code",
   "execution_count": 16,
   "metadata": {},
   "outputs": [],
   "source": [
    "def plot_price_trend(df, plz, liegenschaftstyp):\n",
    "    # Filtern des DataFrames nach der gegebenen PLZ\n",
    "    analysis_df = df[df[\"PLZ\"] == plz]\n",
    "    analysis_df = df[df[\"Liegenschaftstyp\"] == liegenschaftstyp]\n",
    "    \n",
    "    # Gruppieren nach \"Erwerbsdatum\" und Durchschnitt der \"Preis pro qm2\" berechnen\n",
    "    avg_price_per_year = analysis_df.groupby(analysis_df['Erwerbsdatum'].dt.year)['Preis pro qm2'].mean()\n",
    "\n",
    "    # Berechnung eines gleitenden 3-Jahres-Durchschnitts (kann angepasst werden)\n",
    "    rolling_avg = avg_price_per_year.rolling(window=3).mean()\n",
    "\n",
    "    # Daten aus den Spalten auswählen\n",
    "    x = avg_price_per_year.index\n",
    "    y = avg_price_per_year.values\n",
    "    smoothed_y = rolling_avg.values\n",
    "\n",
    "    # Diagramm erstellen\n",
    "    plt.figure(figsize=(10, 6))  # Größe des Diagramms festlegen (optional)\n",
    "    plt.plot(x, y, marker='o', linestyle='-', label='Preis pro qm2 (Durchschnitt pro Jahr)')\n",
    "    plt.plot(x, smoothed_y, linestyle='-', linewidth=2, label='Gleitender 3-Jahres-Durchschnitt')\n",
    "    plt.title(f'Trendanalyse: Preis pro Quadratmeter für PLZ {plz} über die Jahre, für den Liegenschaftstyp: {liegenschaftstyp}')  # Diagrammtitel mit PLZ\n",
    "    plt.xlabel('Jahr')  # Beschriftung der x-Achse\n",
    "    plt.ylabel('Preis pro Quadratmeter (in EUR)')  # Beschriftung der y-Achse\n",
    "    plt.grid(True)  # Gitterlinien hinzufügen (optional)\n",
    "\n",
    "    # Diagramm anzeigen\n",
    "    plt.legend()\n",
    "    plt.tight_layout()  # Platz für Achsenbeschriftungen sicherstellen\n",
    "    plt.show()  # Diagramm anzeigen"
   ]
  },
  {
   "cell_type": "markdown",
   "metadata": {},
   "source": [
    "#### Analyse"
   ]
  },
  {
   "cell_type": "code",
   "execution_count": 17,
   "metadata": {},
   "outputs": [
    {
     "data": {
      "text/html": [
       "<div>\n",
       "<style scoped>\n",
       "    .dataframe tbody tr th:only-of-type {\n",
       "        vertical-align: middle;\n",
       "    }\n",
       "\n",
       "    .dataframe tbody tr th {\n",
       "        vertical-align: top;\n",
       "    }\n",
       "\n",
       "    .dataframe thead th {\n",
       "        text-align: right;\n",
       "    }\n",
       "</style>\n",
       "<table border=\"1\" class=\"dataframe\">\n",
       "  <thead>\n",
       "    <tr style=\"text-align: right;\">\n",
       "      <th></th>\n",
       "      <th>PLZ</th>\n",
       "      <th>Erwerbsdatum</th>\n",
       "      <th>Liegenschaftstyp</th>\n",
       "      <th>Kaufpreis</th>\n",
       "      <th>Fläche</th>\n",
       "      <th>Widmung</th>\n",
       "    </tr>\n",
       "  </thead>\n",
       "  <tbody>\n",
       "    <tr>\n",
       "      <th>0</th>\n",
       "      <td>1210</td>\n",
       "      <td>2021-10-13</td>\n",
       "      <td>Abbruchobjekt</td>\n",
       "      <td>750000.0</td>\n",
       "      <td>755.0</td>\n",
       "      <td>100.0</td>\n",
       "    </tr>\n",
       "    <tr>\n",
       "      <th>1</th>\n",
       "      <td>1210</td>\n",
       "      <td>2021-09-13</td>\n",
       "      <td>Mietwohnhaus voll/tw. vermietet</td>\n",
       "      <td>1250000.0</td>\n",
       "      <td>510.0</td>\n",
       "      <td>100.0</td>\n",
       "    </tr>\n",
       "    <tr>\n",
       "      <th>2</th>\n",
       "      <td>1130</td>\n",
       "      <td>2021-08-10</td>\n",
       "      <td>Abbruchobjekt</td>\n",
       "      <td>480000.0</td>\n",
       "      <td>456.0</td>\n",
       "      <td>100.0</td>\n",
       "    </tr>\n",
       "    <tr>\n",
       "      <th>3</th>\n",
       "      <td>1130</td>\n",
       "      <td>2020-12-30</td>\n",
       "      <td>Abbruchobjekt</td>\n",
       "      <td>1600000.0</td>\n",
       "      <td>523.0</td>\n",
       "      <td>100.0</td>\n",
       "    </tr>\n",
       "    <tr>\n",
       "      <th>4</th>\n",
       "      <td>1100</td>\n",
       "      <td>2020-11-04</td>\n",
       "      <td>unbebaut</td>\n",
       "      <td>15000000.0</td>\n",
       "      <td>12768.0</td>\n",
       "      <td>30.0</td>\n",
       "    </tr>\n",
       "  </tbody>\n",
       "</table>\n",
       "</div>"
      ],
      "text/plain": [
       "    PLZ Erwerbsdatum                 Liegenschaftstyp   Kaufpreis   Fläche  \\\n",
       "0  1210   2021-10-13                    Abbruchobjekt    750000.0    755.0   \n",
       "1  1210   2021-09-13  Mietwohnhaus voll/tw. vermietet   1250000.0    510.0   \n",
       "2  1130   2021-08-10                    Abbruchobjekt    480000.0    456.0   \n",
       "3  1130   2020-12-30                    Abbruchobjekt   1600000.0    523.0   \n",
       "4  1100   2020-11-04                         unbebaut  15000000.0  12768.0   \n",
       "\n",
       "   Widmung  \n",
       "0    100.0  \n",
       "1    100.0  \n",
       "2    100.0  \n",
       "3    100.0  \n",
       "4     30.0  "
      ]
     },
     "execution_count": 17,
     "metadata": {},
     "output_type": "execute_result"
    }
   ],
   "source": [
    "df.head(5)"
   ]
  },
  {
   "cell_type": "code",
   "execution_count": 18,
   "metadata": {},
   "outputs": [
    {
     "name": "stdout",
     "output_type": "stream",
     "text": [
      "NaN-Werte in den Spalten des DataFrames:\n",
      "Spalte 'PLZ': 0 NaN-Werte\n",
      "Spalte 'Erwerbsdatum': 0 NaN-Werte\n",
      "Spalte 'Liegenschaftstyp': 0 NaN-Werte\n",
      "Spalte 'Kaufpreis': 0 NaN-Werte\n",
      "Spalte 'Fläche': 0 NaN-Werte\n",
      "Spalte 'Widmung': 0 NaN-Werte\n"
     ]
    }
   ],
   "source": [
    "check_nan_in_dataframe(df)"
   ]
  },
  {
   "cell_type": "code",
   "execution_count": 19,
   "metadata": {},
   "outputs": [],
   "source": [
    "analysis_df = df"
   ]
  },
  {
   "cell_type": "code",
   "execution_count": 20,
   "metadata": {},
   "outputs": [],
   "source": [
    "analysis_df = df\n",
    "analysis_df[\"Preis pro qm2\"] = analysis_df[\"Kaufpreis\"]/analysis_df[\"Fläche\"]"
   ]
  },
  {
   "cell_type": "code",
   "execution_count": 21,
   "metadata": {},
   "outputs": [
    {
     "data": {
      "text/html": [
       "<div>\n",
       "<style scoped>\n",
       "    .dataframe tbody tr th:only-of-type {\n",
       "        vertical-align: middle;\n",
       "    }\n",
       "\n",
       "    .dataframe tbody tr th {\n",
       "        vertical-align: top;\n",
       "    }\n",
       "\n",
       "    .dataframe thead th {\n",
       "        text-align: right;\n",
       "    }\n",
       "</style>\n",
       "<table border=\"1\" class=\"dataframe\">\n",
       "  <thead>\n",
       "    <tr style=\"text-align: right;\">\n",
       "      <th></th>\n",
       "      <th>PLZ</th>\n",
       "      <th>Erwerbsdatum</th>\n",
       "      <th>Liegenschaftstyp</th>\n",
       "      <th>Kaufpreis</th>\n",
       "      <th>Fläche</th>\n",
       "      <th>Widmung</th>\n",
       "      <th>Preis pro qm2</th>\n",
       "    </tr>\n",
       "  </thead>\n",
       "  <tbody>\n",
       "    <tr>\n",
       "      <th>0</th>\n",
       "      <td>1210</td>\n",
       "      <td>2021-10-13</td>\n",
       "      <td>Abbruchobjekt</td>\n",
       "      <td>750000.0</td>\n",
       "      <td>755.0</td>\n",
       "      <td>100.0</td>\n",
       "      <td>993.377483</td>\n",
       "    </tr>\n",
       "    <tr>\n",
       "      <th>1</th>\n",
       "      <td>1210</td>\n",
       "      <td>2021-09-13</td>\n",
       "      <td>Mietwohnhaus voll/tw. vermietet</td>\n",
       "      <td>1250000.0</td>\n",
       "      <td>510.0</td>\n",
       "      <td>100.0</td>\n",
       "      <td>2450.980392</td>\n",
       "    </tr>\n",
       "    <tr>\n",
       "      <th>2</th>\n",
       "      <td>1130</td>\n",
       "      <td>2021-08-10</td>\n",
       "      <td>Abbruchobjekt</td>\n",
       "      <td>480000.0</td>\n",
       "      <td>456.0</td>\n",
       "      <td>100.0</td>\n",
       "      <td>1052.631579</td>\n",
       "    </tr>\n",
       "    <tr>\n",
       "      <th>3</th>\n",
       "      <td>1130</td>\n",
       "      <td>2020-12-30</td>\n",
       "      <td>Abbruchobjekt</td>\n",
       "      <td>1600000.0</td>\n",
       "      <td>523.0</td>\n",
       "      <td>100.0</td>\n",
       "      <td>3059.273423</td>\n",
       "    </tr>\n",
       "    <tr>\n",
       "      <th>4</th>\n",
       "      <td>1100</td>\n",
       "      <td>2020-11-04</td>\n",
       "      <td>unbebaut</td>\n",
       "      <td>15000000.0</td>\n",
       "      <td>12768.0</td>\n",
       "      <td>30.0</td>\n",
       "      <td>1174.812030</td>\n",
       "    </tr>\n",
       "    <tr>\n",
       "      <th>...</th>\n",
       "      <td>...</td>\n",
       "      <td>...</td>\n",
       "      <td>...</td>\n",
       "      <td>...</td>\n",
       "      <td>...</td>\n",
       "      <td>...</td>\n",
       "      <td>...</td>\n",
       "    </tr>\n",
       "    <tr>\n",
       "      <th>60011</th>\n",
       "      <td>1220</td>\n",
       "      <td>2022-04-05</td>\n",
       "      <td>Ein-, Zweifamilienhaus</td>\n",
       "      <td>630000.0</td>\n",
       "      <td>283.0</td>\n",
       "      <td>100.0</td>\n",
       "      <td>2226.148410</td>\n",
       "    </tr>\n",
       "    <tr>\n",
       "      <th>60012</th>\n",
       "      <td>1130</td>\n",
       "      <td>2022-04-27</td>\n",
       "      <td>Ein-, Zweifamilienhaus</td>\n",
       "      <td>1070000.0</td>\n",
       "      <td>465.0</td>\n",
       "      <td>100.0</td>\n",
       "      <td>2301.075269</td>\n",
       "    </tr>\n",
       "    <tr>\n",
       "      <th>60013</th>\n",
       "      <td>1220</td>\n",
       "      <td>2022-04-26</td>\n",
       "      <td>unbebaut</td>\n",
       "      <td>86000000.0</td>\n",
       "      <td>258269.0</td>\n",
       "      <td>100.0</td>\n",
       "      <td>332.986150</td>\n",
       "    </tr>\n",
       "    <tr>\n",
       "      <th>60014</th>\n",
       "      <td>1220</td>\n",
       "      <td>2022-04-26</td>\n",
       "      <td>unbebaut</td>\n",
       "      <td>65000000.0</td>\n",
       "      <td>258269.0</td>\n",
       "      <td>100.0</td>\n",
       "      <td>251.675579</td>\n",
       "    </tr>\n",
       "    <tr>\n",
       "      <th>60015</th>\n",
       "      <td>1220</td>\n",
       "      <td>2022-05-09</td>\n",
       "      <td>unbebaut</td>\n",
       "      <td>315000.0</td>\n",
       "      <td>433.0</td>\n",
       "      <td>100.0</td>\n",
       "      <td>727.482679</td>\n",
       "    </tr>\n",
       "  </tbody>\n",
       "</table>\n",
       "<p>52340 rows × 7 columns</p>\n",
       "</div>"
      ],
      "text/plain": [
       "        PLZ Erwerbsdatum                 Liegenschaftstyp   Kaufpreis  \\\n",
       "0      1210   2021-10-13                    Abbruchobjekt    750000.0   \n",
       "1      1210   2021-09-13  Mietwohnhaus voll/tw. vermietet   1250000.0   \n",
       "2      1130   2021-08-10                    Abbruchobjekt    480000.0   \n",
       "3      1130   2020-12-30                    Abbruchobjekt   1600000.0   \n",
       "4      1100   2020-11-04                         unbebaut  15000000.0   \n",
       "...     ...          ...                              ...         ...   \n",
       "60011  1220   2022-04-05           Ein-, Zweifamilienhaus    630000.0   \n",
       "60012  1130   2022-04-27           Ein-, Zweifamilienhaus   1070000.0   \n",
       "60013  1220   2022-04-26                         unbebaut  86000000.0   \n",
       "60014  1220   2022-04-26                         unbebaut  65000000.0   \n",
       "60015  1220   2022-05-09                         unbebaut    315000.0   \n",
       "\n",
       "         Fläche  Widmung  Preis pro qm2  \n",
       "0         755.0    100.0     993.377483  \n",
       "1         510.0    100.0    2450.980392  \n",
       "2         456.0    100.0    1052.631579  \n",
       "3         523.0    100.0    3059.273423  \n",
       "4       12768.0     30.0    1174.812030  \n",
       "...         ...      ...            ...  \n",
       "60011     283.0    100.0    2226.148410  \n",
       "60012     465.0    100.0    2301.075269  \n",
       "60013  258269.0    100.0     332.986150  \n",
       "60014  258269.0    100.0     251.675579  \n",
       "60015     433.0    100.0     727.482679  \n",
       "\n",
       "[52340 rows x 7 columns]"
      ]
     },
     "execution_count": 21,
     "metadata": {},
     "output_type": "execute_result"
    }
   ],
   "source": [
    "df[df['Erwerbsdatum'] < pd.to_datetime(datetime.now().date())]"
   ]
  },
  {
   "cell_type": "code",
   "execution_count": 22,
   "metadata": {},
   "outputs": [],
   "source": [
    "from datetime import datetime"
   ]
  },
  {
   "cell_type": "code",
   "execution_count": 23,
   "metadata": {},
   "outputs": [
    {
     "data": {
      "text/plain": [
       "array(['Abbruchobjekt', 'Mietwohnhaus voll/tw. vermietet', 'unbebaut',\n",
       "       'Sonstiges', 'Ein-, Zweifamilienhaus', 'Villa',\n",
       "       'Landwirtsch. Nutzung', 'Betriebsobjekt', 'Kleingarten',\n",
       "       'Mietwohnhaus leer', 'Weingarten',\n",
       "       'Büro- u./o. Geschäftsgebäude leer',\n",
       "       'Büro- u./o. Geschäftsgebäude'], dtype=object)"
      ]
     },
     "execution_count": 23,
     "metadata": {},
     "output_type": "execute_result"
    }
   ],
   "source": [
    "df[\"Liegenschaftstyp\"].unique()"
   ]
  },
  {
   "cell_type": "code",
   "execution_count": 24,
   "metadata": {},
   "outputs": [
    {
     "data": {
      "image/png": "[encoded data removed]",
      "text/plain": [
       "<Figure size 1000x600 with 1 Axes>"
      ]
     },
     "metadata": {},
     "output_type": "display_data"
    }
   ],
   "source": [
    "plot_price_trend(df, 1010, 'Mietwohnhaus voll/tw. vermietet')"
   ]
  },
  {
   "cell_type": "code",
   "execution_count": 25,
   "metadata": {},
   "outputs": [],
   "source": [
    "df = df[df['Erwerbsdatum'] >= pd.to_datetime(\"2000-01-01\")]"
   ]
  },
  {
   "cell_type": "code",
   "execution_count": 26,
   "metadata": {},
   "outputs": [
    {
     "data": {
      "text/plain": [
       "31521"
      ]
     },
     "execution_count": 26,
     "metadata": {},
     "output_type": "execute_result"
    }
   ],
   "source": [
    "len(df)"
   ]
  },
  {
   "cell_type": "markdown",
   "metadata": {},
   "source": [
    "# Training"
   ]
  },
  {
   "cell_type": "code",
   "execution_count": 27,
   "metadata": {},
   "outputs": [],
   "source": [
    "pre_train_df = df.copy()"
   ]
  },
  {
   "cell_type": "code",
   "execution_count": 28,
   "metadata": {},
   "outputs": [
    {
     "data": {
      "text/plain": [
       "Index(['PLZ', 'Erwerbsdatum', 'Liegenschaftstyp', 'Kaufpreis', 'Fläche',\n",
       "       'Widmung', 'Preis pro qm2'],\n",
       "      dtype='object')"
      ]
     },
     "execution_count": 28,
     "metadata": {},
     "output_type": "execute_result"
    }
   ],
   "source": [
    "pre_train_df.columns"
   ]
  },
  {
   "cell_type": "code",
   "execution_count": 29,
   "metadata": {},
   "outputs": [
    {
     "name": "stdout",
     "output_type": "stream",
     "text": [
      "       Liegenschaftstyp_Nummer                   Liegenschaftstyp\n",
      "0                            0                      Abbruchobjekt\n",
      "1                            8    Mietwohnhaus voll/tw. vermietet\n",
      "4                           12                           unbebaut\n",
      "5                            9                          Sonstiges\n",
      "7                            4             Ein-, Zweifamilienhaus\n",
      "11                          10                              Villa\n",
      "15                           6               Landwirtsch. Nutzung\n",
      "257                          1                     Betriebsobjekt\n",
      "2589                         5                        Kleingarten\n",
      "10483                        7                  Mietwohnhaus leer\n",
      "15117                       11                         Weingarten\n",
      "22972                        2       Büro- u./o. Geschäftsgebäude\n",
      "23467                        3  Büro- u./o. Geschäftsgebäude leer\n"
     ]
    }
   ],
   "source": [
    "pre_train_df = pre_train_df.drop(\"Preis pro qm2\", axis=1)\n",
    "pre_train_df = pre_train_df.drop(\"Widmung\", axis=1)\n",
    "\n",
    "pre_train_df['Liegenschaftstyp_Nummer'] = pre_train_df['Liegenschaftstyp'].astype('category').cat.codes\n",
    "pre_train_df['Liegenschaftstyp_Nummer'] = pre_train_df['Liegenschaftstyp_Nummer'].astype(int)\n",
    "num_to_liegenschaft_mapping = pre_train_df[['Liegenschaftstyp_Nummer', 'Liegenschaftstyp']].drop_duplicates()\n",
    "print(num_to_liegenschaft_mapping)\n",
    "pre_train_df = pre_train_df.drop(\"Liegenschaftstyp\", axis=1)"
   ]
  },
  {
   "cell_type": "code",
   "execution_count": 30,
   "metadata": {},
   "outputs": [
    {
     "data": {
      "text/html": [
       "<div>\n",
       "<style scoped>\n",
       "    .dataframe tbody tr th:only-of-type {\n",
       "        vertical-align: middle;\n",
       "    }\n",
       "\n",
       "    .dataframe tbody tr th {\n",
       "        vertical-align: top;\n",
       "    }\n",
       "\n",
       "    .dataframe thead th {\n",
       "        text-align: right;\n",
       "    }\n",
       "</style>\n",
       "<table border=\"1\" class=\"dataframe\">\n",
       "  <thead>\n",
       "    <tr style=\"text-align: right;\">\n",
       "      <th></th>\n",
       "      <th>PLZ</th>\n",
       "      <th>Erwerbsdatum</th>\n",
       "      <th>Kaufpreis</th>\n",
       "      <th>Fläche</th>\n",
       "      <th>Liegenschaftstyp_Nummer</th>\n",
       "    </tr>\n",
       "  </thead>\n",
       "  <tbody>\n",
       "    <tr>\n",
       "      <th>0</th>\n",
       "      <td>1210</td>\n",
       "      <td>2021-10-13</td>\n",
       "      <td>750000.0</td>\n",
       "      <td>755.0</td>\n",
       "      <td>0</td>\n",
       "    </tr>\n",
       "    <tr>\n",
       "      <th>1</th>\n",
       "      <td>1210</td>\n",
       "      <td>2021-09-13</td>\n",
       "      <td>1250000.0</td>\n",
       "      <td>510.0</td>\n",
       "      <td>8</td>\n",
       "    </tr>\n",
       "    <tr>\n",
       "      <th>2</th>\n",
       "      <td>1130</td>\n",
       "      <td>2021-08-10</td>\n",
       "      <td>480000.0</td>\n",
       "      <td>456.0</td>\n",
       "      <td>0</td>\n",
       "    </tr>\n",
       "    <tr>\n",
       "      <th>3</th>\n",
       "      <td>1130</td>\n",
       "      <td>2020-12-30</td>\n",
       "      <td>1600000.0</td>\n",
       "      <td>523.0</td>\n",
       "      <td>0</td>\n",
       "    </tr>\n",
       "    <tr>\n",
       "      <th>4</th>\n",
       "      <td>1100</td>\n",
       "      <td>2020-11-04</td>\n",
       "      <td>15000000.0</td>\n",
       "      <td>12768.0</td>\n",
       "      <td>12</td>\n",
       "    </tr>\n",
       "  </tbody>\n",
       "</table>\n",
       "</div>"
      ],
      "text/plain": [
       "    PLZ Erwerbsdatum   Kaufpreis   Fläche  Liegenschaftstyp_Nummer\n",
       "0  1210   2021-10-13    750000.0    755.0                        0\n",
       "1  1210   2021-09-13   1250000.0    510.0                        8\n",
       "2  1130   2021-08-10    480000.0    456.0                        0\n",
       "3  1130   2020-12-30   1600000.0    523.0                        0\n",
       "4  1100   2020-11-04  15000000.0  12768.0                       12"
      ]
     },
     "execution_count": 30,
     "metadata": {},
     "output_type": "execute_result"
    }
   ],
   "source": [
    "pre_train_df.head(5)"
   ]
  },
  {
   "cell_type": "code",
   "execution_count": 31,
   "metadata": {},
   "outputs": [
    {
     "data": {
      "text/plain": [
       "pandas._libs.tslibs.timestamps.Timestamp"
      ]
     },
     "execution_count": 31,
     "metadata": {},
     "output_type": "execute_result"
    }
   ],
   "source": [
    "type(pre_train_df[\"Erwerbsdatum\"][0])"
   ]
  }
 ],
 "metadata": {
  "kernelspec": {
   "display_name": "Python 3.10.2 64-bit",
   "language": "python",
   "name": "python3"
  },
  "language_info": {
   "codemirror_mode": {
    "name": "ipython",
    "version": 3
   },
   "file_extension": ".py",
   "mimetype": "text/x-python",
   "name": "python",
   "nbconvert_exporter": "python",
   "pygments_lexer": "ipython3",
   "version": "3.10.2"
  },
  "orig_nbformat": 4,
  "vscode": {
   "interpreter": {
    "hash": "aee8b7b246df8f9039afb4144a1f6fd8d2ca17a180786b69acc140d282b71a49"
   }
  }
 },
 "nbformat": 4,
 "nbformat_minor": 2
}
